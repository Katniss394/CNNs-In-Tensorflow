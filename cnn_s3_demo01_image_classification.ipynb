{
 "cells": [
  {
   "cell_type": "markdown",
   "metadata": {},
   "source": [
    "## Import packages"
   ]
  },
  {
   "cell_type": "code",
   "execution_count": 30,
   "metadata": {},
   "outputs": [],
   "source": [
    "import pickle\n",
    "import numpy as np\n",
    "import math\n",
    "import tensorflow as tf"
   ]
  },
  {
   "cell_type": "markdown",
   "metadata": {},
   "source": [
    "### Plot graphs inline"
   ]
  },
  {
   "cell_type": "code",
   "execution_count": 31,
   "metadata": {},
   "outputs": [],
   "source": [
    "%matplotlib inline\n",
    "\n",
    "import matplotlib\n",
    "import matplotlib.pyplot as plt"
   ]
  },
  {
   "cell_type": "markdown",
   "metadata": {},
   "source": [
    "### Load and pre-process the dataset\n",
    "\n",
    "The CIFAR-10 dataset consists of 5 batches, named data_batch_1, data_batch_2, etc.. Each batch contains the labels and images of the following:\n",
    "\n",
    "* 0 - airplane\n",
    "* 1 - automobile\n",
    "* 2 - bird\n",
    "* 3 - cat\n",
    "* 4 - deer\n",
    "* 5 - dog\n",
    "* 6 - frog\n",
    "* 7 - horse\n",
    "* 8 - ship\n",
    "* 9 - truck\n",
    "\n",
    "\n",
    "* Access the image and the labels from a single batch specified by id (1-5) and combine them \n",
    "* Reshape the images, the images are fed to the convolutional layer as a 4-D tensor.\n",
    "* Transpose the axes of the reshaped image to be in this form: *[batch_size, height, width, channels]*, **channels should be the last axis**"
   ]
  },
  {
   "cell_type": "code",
   "execution_count": 32,
   "metadata": {},
   "outputs": [],
   "source": [
    "features = np.empty((0, 32,32,3))\n",
    "labels = []"
   ]
  },
  {
   "cell_type": "code",
   "execution_count": 33,
   "metadata": {},
   "outputs": [],
   "source": [
    "for i in range(5):\n",
    "    with open('cifar_10/data_batch_'+str(i+1), mode='rb') as file:\n",
    "        batch = pickle.load(file, encoding='latin1')\n",
    "\n",
    "    new_features = batch['data'].reshape((len(batch['data']), 3, 32, 32)).transpose(0, 2, 3, 1)\n",
    "    features=np.append(features,new_features,axis=0)\n",
    "    new_labels = batch['labels']\n",
    "    labels.extend(new_labels)"
   ]
  },
  {
   "cell_type": "markdown",
   "metadata": {},
   "source": [
    "### Explore the data\n",
    "* Map the integer labels to the actual labels for display\n",
    "* Plot the image"
   ]
  },
  {
   "cell_type": "code",
   "execution_count": 34,
   "metadata": {},
   "outputs": [
    {
     "data": {
      "text/plain": [
       "(50000, 32, 32, 3)"
      ]
     },
     "execution_count": 34,
     "metadata": {},
     "output_type": "execute_result"
    }
   ],
   "source": [
    "features.shape"
   ]
  },
  {
   "cell_type": "code",
   "execution_count": 35,
   "metadata": {},
   "outputs": [
    {
     "data": {
      "text/plain": [
       "50000"
      ]
     },
     "execution_count": 35,
     "metadata": {},
     "output_type": "execute_result"
    }
   ],
   "source": [
    "len(labels)"
   ]
  },
  {
   "cell_type": "code",
   "execution_count": 36,
   "metadata": {},
   "outputs": [],
   "source": [
    "classes = ['airplane', \n",
    "          'automobile', \n",
    "          'bird', \n",
    "          'cat', \n",
    "          'deer', \n",
    "          'dog', \n",
    "          'frog', \n",
    "          'horse', \n",
    "          'ship', \n",
    "          'truck']"
   ]
  },
  {
   "cell_type": "code",
   "execution_count": 37,
   "metadata": {},
   "outputs": [
    {
     "name": "stdout",
     "output_type": "stream",
     "text": [
      "Label:  bird\n"
     ]
    },
    {
     "data": {
      "text/plain": [
       "<matplotlib.image.AxesImage at 0x182c29e080>"
      ]
     },
     "execution_count": 37,
     "metadata": {},
     "output_type": "execute_result"
    },
    {
     "data": {
      "image/png": "[encoded data removed]",
      "text/plain": [
       "<matplotlib.figure.Figure at 0x181c37def0>"
      ]
     },
     "metadata": {},
     "output_type": "display_data"
    }
   ],
   "source": [
    "print(\"Label: \", classes[labels[6]])\n",
    "plt.imshow(features[6])"
   ]
  },
  {
   "cell_type": "markdown",
   "metadata": {},
   "source": [
    "### Split the dataset into training and test sets\n"
   ]
  },
  {
   "cell_type": "code",
   "execution_count": 38,
   "metadata": {},
   "outputs": [],
   "source": [
    "train_size = int(len(features) * 0.8)"
   ]
  },
  {
   "cell_type": "code",
   "execution_count": 39,
   "metadata": {},
   "outputs": [],
   "source": [
    "X_train = features[:train_size,:,:]\n",
    "\n",
    "y_train = labels[:train_size]\n",
    "\n",
    "X_test = features[train_size:,:,:]\n",
    "\n",
    "y_test = labels[train_size:]"
   ]
  },
  {
   "cell_type": "code",
   "execution_count": 40,
   "metadata": {},
   "outputs": [
    {
     "name": "stdout",
     "output_type": "stream",
     "text": [
      "(40000, 32, 32, 3)\n",
      "(10000, 32, 32, 3)\n"
     ]
    }
   ],
   "source": [
    "print(X_train.shape)\n",
    "print(X_test.shape)"
   ]
  },
  {
   "cell_type": "code",
   "execution_count": 41,
   "metadata": {},
   "outputs": [
    {
     "name": "stdout",
     "output_type": "stream",
     "text": [
      "40000\n",
      "10000\n"
     ]
    }
   ],
   "source": [
    "print(len(y_train))\n",
    "print(len(y_test))"
   ]
  },
  {
   "cell_type": "markdown",
   "metadata": {},
   "source": [
    "### Defining parameters\n",
    "\n",
    "* Each image is of size 32x32\n",
    "* The image is RGB so has 3 channels, and requires 3 numbers to represent each pixel\n",
    "* The training dataset placeholder can have any number of instances and each instance is an array of 32x32 pixels.\n",
    "* The images are fed to the convolutional layer as a 4D tensor *[batch_size, height, width, channels]*"
   ]
  },
  {
   "cell_type": "code",
   "execution_count": 42,
   "metadata": {},
   "outputs": [],
   "source": [
    "height = 32\n",
    "width = 32\n",
    "channels = 3\n",
    "n_inputs = height * width"
   ]
  },
  {
   "cell_type": "code",
   "execution_count": 43,
   "metadata": {},
   "outputs": [],
   "source": [
    "tf.reset_default_graph()"
   ]
  },
  {
   "cell_type": "code",
   "execution_count": 44,
   "metadata": {},
   "outputs": [],
   "source": [
    "X = tf.placeholder(tf.float32, shape=[None,  height, width, channels], name=\"X\")"
   ]
  },
  {
   "cell_type": "markdown",
   "metadata": {},
   "source": [
    "### Add a dropout layer to avoid overfitting the training data\n",
    "\n",
    "* The training flag is set to False during prediction and is True while training (dropout is applied only in the training phase)\n",
    "* The dropout_rate indicates the chances that a neuron is turned off during training"
   ]
  },
  {
   "cell_type": "code",
   "execution_count": 45,
   "metadata": {},
   "outputs": [],
   "source": [
    "dropout_rate = 0.4\n",
    "\n",
    "training = tf.placeholder_with_default(False, shape=(), name='training')\n",
    "dropOut_1 = tf.layers.dropout(X, dropout_rate, training=training)"
   ]
  },
  {
   "cell_type": "code",
   "execution_count": 46,
   "metadata": {},
   "outputs": [],
   "source": [
    "y = tf.placeholder(tf.int32, shape=[None], name=\"y\")"
   ]
  },
  {
   "cell_type": "markdown",
   "metadata": {},
   "source": [
    "### Neural network design\n",
    "\n",
    "* 2 convolutional layers\n",
    "* 1 max pooling layer : The pooled image is only 1/4th the size of the original image with this kernel size and stride\n",
    "* 1 convolutional layer\n",
    "* 1 max pooling layer\n",
    "* flatten : Reshape the pooled layer to be a 1-D vector\n",
    "* 2 fully connected layers\n",
    "* Output layer : The number of outputs of the logits layer should be 10 as cifar has 10 classes of data.\n",
    "* apply the softmax activation as well as calculate the cross-entropy as our cost function"
   ]
  },
  {
   "cell_type": "code",
   "execution_count": 47,
   "metadata": {},
   "outputs": [],
   "source": [
    "conv_1 = tf.layers.conv2d(dropOut_1, filters=32,\n",
    "                         kernel_size=3,\n",
    "                         strides=1, padding=\"SAME\",\n",
    "                         activation=tf.nn.relu, name=\"conv1\")"
   ]
  },
  {
   "cell_type": "code",
   "execution_count": 48,
   "metadata": {},
   "outputs": [],
   "source": [
    "conv_2 = tf.layers.conv2d(conv_1, filters=64, \n",
    "                         kernel_size=3,\n",
    "                         strides=2, padding=\"SAME\",\n",
    "                         activation=tf.nn.relu, name=\"conv2\")"
   ]
  },
  {
   "cell_type": "code",
   "execution_count": 49,
   "metadata": {},
   "outputs": [],
   "source": [
    "pool_3 = tf.nn.max_pool(conv_2,\n",
    "                       ksize=[1, 2, 2, 1],\n",
    "                       strides=[1, 2, 2, 1],\n",
    "                       padding=\"VALID\")"
   ]
  },
  {
   "cell_type": "code",
   "execution_count": 50,
   "metadata": {},
   "outputs": [],
   "source": [
    "conv_4 = tf.layers.conv2d(pool_3, filters=128, \n",
    "                         kernel_size=4,\n",
    "                         strides=3, padding=\"SAME\",\n",
    "                         activation=tf.nn.relu, name=\"conv4\")"
   ]
  },
  {
   "cell_type": "code",
   "execution_count": 51,
   "metadata": {},
   "outputs": [],
   "source": [
    "pool_5 = tf.nn.max_pool(conv_4,\n",
    "                       ksize=[1, 2, 2, 1],\n",
    "                       strides=[1, 1, 1, 1],\n",
    "                       padding=\"VALID\")\n",
    "\n",
    "pool_5_flat = tf.reshape(pool_5, shape=[-1, 128 * 2 * 2])"
   ]
  },
  {
   "cell_type": "code",
   "execution_count": 52,
   "metadata": {},
   "outputs": [],
   "source": [
    "fullyconn_1 = tf.layers.dense(pool_5_flat, 128,\n",
    "                             activation=tf.nn.relu, name=\"fc1\")"
   ]
  },
  {
   "cell_type": "code",
   "execution_count": 53,
   "metadata": {},
   "outputs": [],
   "source": [
    "fullyconn_2 = tf.layers.dense(fullyconn_1, 64,\n",
    "                             activation=tf.nn.relu, name=\"fc2\")"
   ]
  },
  {
   "cell_type": "code",
   "execution_count": 54,
   "metadata": {},
   "outputs": [],
   "source": [
    "output = tf.layers.dense(fullyconn_2, 10, name=\"output\")"
   ]
  },
  {
   "cell_type": "code",
   "execution_count": 55,
   "metadata": {},
   "outputs": [],
   "source": [
    "x_entropy = tf.nn.sparse_softmax_cross_entropy_with_logits(logits=output,\n",
    "                                                          labels=y)\n",
    "loss = tf.reduce_mean(x_entropy)\n",
    "optimizer = tf.train.AdamOptimizer()\n",
    "training_op = optimizer.minimize(loss)"
   ]
  },
  {
   "cell_type": "markdown",
   "metadata": {},
   "source": [
    "### Evaluating the model\n",
    "\n",
    "* Check whether the highest probability output is equal to the y-label\n",
    "* Check the accuracy across all predictions"
   ]
  },
  {
   "cell_type": "code",
   "execution_count": 56,
   "metadata": {},
   "outputs": [],
   "source": [
    "correct = tf.nn.in_top_k(output, y, 1)\n",
    "accuracy = tf.reduce_mean(tf.cast(correct, tf.float32))"
   ]
  },
  {
   "cell_type": "code",
   "execution_count": 57,
   "metadata": {},
   "outputs": [],
   "source": [
    "init = tf.global_variables_initializer()\n",
    "saver = tf.train.Saver()"
   ]
  },
  {
   "cell_type": "markdown",
   "metadata": {},
   "source": [
    "### Train the model\n",
    "\n",
    "* Ensure that dropout is enabled during training to avoid overfitting\n",
    "* Train on all the batches for more accuarcy"
   ]
  },
  {
   "cell_type": "code",
   "execution_count": 58,
   "metadata": {},
   "outputs": [
    {
     "name": "stdout",
     "output_type": "stream",
     "text": [
      "0 Train accuracy: 0.215075 Test accuracy: 0.2114\n",
      "1 Train accuracy: 0.327275 Test accuracy: 0.3154\n",
      "2 Train accuracy: 0.425875 Test accuracy: 0.4145\n",
      "3 Train accuracy: 0.431075 Test accuracy: 0.4159\n",
      "4 Train accuracy: 0.470025 Test accuracy: 0.4489\n",
      "5 Train accuracy: 0.470725 Test accuracy: 0.4482\n",
      "6 Train accuracy: 0.497375 Test accuracy: 0.4715\n",
      "7 Train accuracy: 0.52245 Test accuracy: 0.4977\n",
      "8 Train accuracy: 0.54285 Test accuracy: 0.5067\n",
      "9 Train accuracy: 0.547925 Test accuracy: 0.5101\n"
     ]
    }
   ],
   "source": [
    "n_epochs = 10\n",
    "\n",
    "_BATCH_SIZE = 128\n",
    "\n",
    "with tf.Session() as sess:\n",
    "    init.run()\n",
    "    for epoch in range(n_epochs):\n",
    "        \n",
    "        batch_size = int(math.ceil(len(X_train) / _BATCH_SIZE))\n",
    "        for s in range(batch_size):\n",
    "            batch_xs = X_train[s*_BATCH_SIZE: (s+1)*_BATCH_SIZE]\n",
    "            batch_ys = y_train[s*_BATCH_SIZE: (s+1)*_BATCH_SIZE]\n",
    "\n",
    "            sess.run(training_op, feed_dict={X: batch_xs, y: batch_ys , training: True})\n",
    "\n",
    "        acc_train = accuracy.eval(feed_dict={X: X_train, y: y_train})\n",
    "        acc_test = accuracy.eval(feed_dict={X: X_test, y: y_test})\n",
    "        print(epoch, \"Train accuracy:\", acc_train, \"Test accuracy:\", acc_test)\n"
   ]
  },
  {
   "cell_type": "code",
   "execution_count": null,
   "metadata": {},
   "outputs": [],
   "source": []
  },
  {
   "cell_type": "code",
   "execution_count": null,
   "metadata": {},
   "outputs": [],
   "source": []
  }
 ],
 "metadata": {
  "kernelspec": {
   "display_name": "Python 3",
   "language": "python",
   "name": "python3"
  },
  "language_info": {
   "codemirror_mode": {
    "name": "ipython",
    "version": 3
   },
   "file_extension": ".py",
   "mimetype": "text/x-python",
   "name": "python",
   "nbconvert_exporter": "python",
   "pygments_lexer": "ipython3",
   "version": "3.6.4"
  }
 },
 "nbformat": 4,
 "nbformat_minor": 2
}
